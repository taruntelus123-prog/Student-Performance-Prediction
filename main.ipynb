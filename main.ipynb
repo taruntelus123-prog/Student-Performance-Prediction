{
 "cells": [
  {
   "cell_type": "markdown",
   "id": "bf673963",
   "metadata": {},
   "source": [
    "Import Libraries"
   ]
  },
  {
   "cell_type": "code",
   "execution_count": 4,
   "id": "dcc03f0b",
   "metadata": {},
   "outputs": [],
   "source": [
    "import pandas as pd\n",
    "from sklearn.model_selection import train_test_split\n",
    "from sklearn.linear_model import LogisticRegression\n",
    "from sklearn.metrics import accuracy_score, classification_report"
   ]
  },
  {
   "cell_type": "markdown",
   "id": "4303efe9",
   "metadata": {},
   "source": [
    "Loading Data"
   ]
  },
  {
   "cell_type": "code",
   "execution_count": 5,
   "id": "376e3767",
   "metadata": {},
   "outputs": [],
   "source": [
    "data = pd.read_csv(\"StudentsPerformance.csv\")"
   ]
  },
  {
   "cell_type": "markdown",
   "id": "aad365d2",
   "metadata": {},
   "source": [
    "Clean Column names (remove spaces)"
   ]
  },
  {
   "cell_type": "code",
   "execution_count": 6,
   "id": "28103aa3",
   "metadata": {},
   "outputs": [],
   "source": [
    "data.columns = data.columns.str.strip()"
   ]
  },
  {
   "cell_type": "markdown",
   "id": "87615993",
   "metadata": {},
   "source": [
    "Covert categorial columns"
   ]
  },
  {
   "cell_type": "code",
   "execution_count": 9,
   "id": "17f46ba0",
   "metadata": {},
   "outputs": [],
   "source": [
    "# Define a sample data dictionary for demonstration\n",
    "data = {\n",
    "    'Extra_Activities': ['yes', 'no', 'yes', 'no', 'yes'],\n",
    "    'Results': ['pass', 'fail', 'pass', 'fail', 'pass']\n",
    "}"
   ]
  },
  {
   "cell_type": "markdown",
   "id": "e652f137",
   "metadata": {},
   "source": [
    "Drop rows with missing values"
   ]
  },
  {
   "cell_type": "code",
   "execution_count": 11,
   "id": "51aba5ef",
   "metadata": {},
   "outputs": [],
   "source": [
    "import pandas as pd\n",
    "\n",
    "# Convert the data dictionary to a pandas DataFrame\n",
    "df = pd.DataFrame(data)\n",
    "\n",
    "# Now you can apply dropna() to the DataFrame\n",
    "df = df.dropna()"
   ]
  },
  {
   "cell_type": "code",
   "execution_count": 13,
   "id": "4638655e",
   "metadata": {},
   "outputs": [],
   "source": [
    "# Define Features and Target\n",
    "x = df[['Extra_Activities']] # Assuming 'Extra_Activities' is a relevant feature\n",
    "y = df['Results']"
   ]
  },
  {
   "cell_type": "markdown",
   "id": "8a4bd544",
   "metadata": {},
   "source": [
    "Split/test"
   ]
  },
  {
   "cell_type": "code",
   "execution_count": 15,
   "id": "89e2c471",
   "metadata": {},
   "outputs": [],
   "source": [
    "x_train, x_test, y_train, y_test = train_test_split(x, y, test_size=0.2, random_state=42)"
   ]
  },
  {
   "cell_type": "markdown",
   "id": "777ec919",
   "metadata": {},
   "source": [
    "Train Model"
   ]
  }
 ],
 "metadata": {
  "kernelspec": {
   "display_name": ".venv",
   "language": "python",
   "name": "python3"
  },
  "language_info": {
   "codemirror_mode": {
    "name": "ipython",
    "version": 3
   },
   "file_extension": ".py",
   "mimetype": "text/x-python",
   "name": "python",
   "nbconvert_exporter": "python",
   "pygments_lexer": "ipython3",
   "version": "3.11.9"
  }
 },
 "nbformat": 4,
 "nbformat_minor": 5
}
